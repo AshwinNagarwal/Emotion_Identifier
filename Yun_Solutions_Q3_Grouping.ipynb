{
  "nbformat": 4,
  "nbformat_minor": 0,
  "metadata": {
    "colab": {
      "provenance": []
    },
    "kernelspec": {
      "name": "python3",
      "display_name": "Python 3"
    },
    "language_info": {
      "name": "python"
    }
  },
  "cells": [
    {
      "cell_type": "code",
      "source": [
        "import pandas as pd\n",
        "import numpy as np\n",
        "from scipy.spatial import KDTree"
      ],
      "metadata": {
        "id": "D7mSnoltv1LI"
      },
      "execution_count": 15,
      "outputs": []
    },
    {
      "cell_type": "code",
      "source": [
        "# Sample dataframe\n",
        "data = {\n",
        "    'x': [1, 1.2, 0.8, 1.3, 5, 5.1, 5.2, 4.9, 8, 8.1, 7.9, 0.9, 5.15],\n",
        "    'y': [1, 1.1, 1.2, 1.4, 5, 5.2, 4.95, 4.85, 8.1, 8.0, 8.2, 1.3, 5.05],\n",
        "}\n",
        "df = pd.DataFrame(data)\n",
        "print(df)"
      ],
      "metadata": {
        "colab": {
          "base_uri": "https://localhost:8080/"
        },
        "id": "dOA96VdPv3cA",
        "outputId": "dead127f-ab33-40b1-b5aa-af42e6da7d37"
      },
      "execution_count": 14,
      "outputs": [
        {
          "output_type": "stream",
          "name": "stdout",
          "text": [
            "       x     y\n",
            "0   1.00  1.00\n",
            "1   1.20  1.10\n",
            "2   0.80  1.20\n",
            "3   1.30  1.40\n",
            "4   5.00  5.00\n",
            "5   5.10  5.20\n",
            "6   5.20  4.95\n",
            "7   4.90  4.85\n",
            "8   8.00  8.10\n",
            "9   8.10  8.00\n",
            "10  7.90  8.20\n",
            "11  0.90  1.30\n",
            "12  5.15  5.05\n"
          ]
        }
      ]
    },
    {
      "cell_type": "code",
      "source": [
        "# Using KDTree clustering for grouping points\n",
        "points = df[['x', 'y']].values\n",
        "tree = KDTree(points)\n",
        "groups = tree.query_ball_tree(tree, r=0.5)\n",
        "\n",
        "# Mapping points to group IDs\n",
        "group_map = {idx: cluster_id for cluster_id, members in enumerate(groups) for idx in members}\n",
        "df['group_id'] = [group_map[i] for i in range(len(points))]\n",
        "\n",
        "# To ensure sequential group IDs i.e. ids-0,1,2,...\n",
        "unique_groups = {g: idx for idx, g in enumerate(sorted(set(df['group_id'])))}\n",
        "df['group_id'] = df['group_id'].map(unique_groups)\n",
        "\n",
        "print(df.sort_values('group_id'))"
      ],
      "metadata": {
        "colab": {
          "base_uri": "https://localhost:8080/"
        },
        "id": "EY0ox_7IuJSU",
        "outputId": "87277fbe-d9ac-4fe3-c26e-f2076e9d6a65"
      },
      "execution_count": 16,
      "outputs": [
        {
          "output_type": "stream",
          "name": "stdout",
          "text": [
            "       x     y  group_id\n",
            "8   8.00  8.10         0\n",
            "9   8.10  8.00         0\n",
            "10  7.90  8.20         0\n",
            "0   1.00  1.00         1\n",
            "1   1.20  1.10         1\n",
            "2   0.80  1.20         1\n",
            "3   1.30  1.40         1\n",
            "11  0.90  1.30         1\n",
            "4   5.00  5.00         2\n",
            "5   5.10  5.20         2\n",
            "6   5.20  4.95         2\n",
            "7   4.90  4.85         2\n",
            "12  5.15  5.05         2\n"
          ]
        }
      ]
    },
    {
      "cell_type": "code",
      "source": [],
      "metadata": {
        "id": "MwKSeD8JvnrP"
      },
      "execution_count": null,
      "outputs": []
    }
  ]
}